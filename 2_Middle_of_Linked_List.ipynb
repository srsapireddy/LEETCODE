{
  "nbformat": 4,
  "nbformat_minor": 0,
  "metadata": {
    "colab": {
      "provenance": []
    },
    "kernelspec": {
      "name": "python3",
      "display_name": "Python 3"
    },
    "language_info": {
      "name": "python"
    }
  },
  "cells": [
    {
      "cell_type": "code",
      "source": [
        "class Solution:\n",
        "  def __init__(self):\n",
        "    self.head = None\n",
        "    self.tail = None\n",
        "\n",
        "  def middleNode(self,head):\n",
        "    slow, fase = head,head\n",
        "\n",
        "    while fast and fast.next:\n",
        "      slow = slow.next\n",
        "      fast = fast.next.next\n",
        "    return slow\n"
      ],
      "metadata": {
        "id": "h1yfzCggdNtb"
      },
      "execution_count": null,
      "outputs": []
    }
  ]
}